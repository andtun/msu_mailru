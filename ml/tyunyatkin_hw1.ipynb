{
 "cells": [
  {
   "cell_type": "markdown",
   "metadata": {},
   "source": [
    "**Общая информация**\n",
    "\n",
    "**Срок сдачи:** 20 марта 2019, 06:00 <br\\>\n",
    "**Штраф за опоздание:** -1 балл после 06:00 20 марта, -2 балла после 06:00 27 марта, -3 балла после 06:00 3 апреля\n",
    "-4 балла после 06:00 10 апреля\n",
    "\n",
    "При отправлении ДЗ указывайте фамилию в названии файла\n",
    "Присылать ДЗ необходимо в виде ссылки на свой github репозиторий в slack @alkhamush\n",
    "\n",
    "Необходимо в slack скинуть ссылку в личный чат @alkhamush\n",
    "Пример ссылки:\n",
    "https://github.com/stroykova/spheremailru/stroykova_hw1.ipynb \n",
    "\n",
    "\n",
    "Используйте данный Ipython Notebook при оформлении домашнего задания."
   ]
  },
  {
   "cell_type": "markdown",
   "metadata": {},
   "source": [
    "##### Задание 1 (2 баллов)\n",
    "Реализовать KNN в классе MyKNeighborsClassifier (обязательное условие: точность не ниже sklearn реализации)\n",
    "Разберитесь самостоятельно, какая мера расстояния используется в KNeighborsClassifier дефолтно и реализуйте свой алгоритм именно с этой мерой. Самостоятельно разберитесь, как считается score из KNeighborsClassifier и реализуйте аналог в своём классе. Score не должен уступать значению KNN из sklearn\n",
    "\n",
    "###### Задание 2 (2 балла)\n",
    "Добиться скорости работы на fit,  predict и predict_proba сравнимой со sklearn для iris и mnist\n",
    "Для этого используем numpy\n",
    "\n",
    "###### Задание 3 (2 балла)\n",
    "Для iris найдите такой параметр n_neighbors, при котором выдаётся наилучший score. Нарисуйте график зависимости score от n_neighbors\n",
    "\n",
    "###### Задание 4 (3 балла)\n",
    "Добавить algorithm='kd_tree' в реализацию KNN (использовать KDTree из sklearn.neighbors). Добиться скорости работы на fit,  predict и predict_proba сравнимой со sklearn для iris и mnist\n",
    "Для этого используем numpy. Score не должен уступать значению KNN из sklearn\n",
    "\n",
    "###### Задание 5 (1 балла)\n",
    "Описать для чего нужны следующие библиотеки/классы/функции (список будет ниже)\n",
    "\n",
    "**Штрафные баллы:**\n",
    "\n",
    "1. Невыполнение PEP8 -0.5 баллов\n",
    "2. Отсутствие фамилии в имени скрипта (скрипт должен называться по аналогии со stroykova_hw1.ipynb) -0.5 баллов\n",
    "3. Все строчки должны быть выполнены. Нужно, чтобы output команды можно было увидеть уже в git'е. В противном случае -0.5 баллов\n",
    "4. При оформлении ДЗ нужно пользоваться данным файлом в качестве шаблона. Не нужно удалять и видоизменять структуру кода и текст. В противном случае -0.5 баллов\n"
   ]
  },
  {
   "cell_type": "code",
   "execution_count": 1,
   "metadata": {},
   "outputs": [],
   "source": [
    "import numpy as np\n",
    "import matplotlib.pyplot as plt\n",
    "\n",
    "import seaborn as sns\n",
    "from sklearn import datasets\n",
    "from sklearn.base import ClassifierMixin\n",
    "from sklearn.datasets import fetch_openml\n",
    "from sklearn.neighbors.base import NeighborsBase, KNeighborsMixin, SupervisedIntegerMixin \n",
    "from sklearn.model_selection import train_test_split\n",
    "from sklearn.neighbors import KNeighborsClassifier, KDTree\n",
    "\n",
    "from sklearn.metrics import pairwise"
   ]
  },
  {
   "cell_type": "code",
   "execution_count": 2,
   "metadata": {},
   "outputs": [],
   "source": [
    "class MyKNeighborsClassifier(NeighborsBase, KNeighborsMixin, SupervisedIntegerMixin, ClassifierMixin):\n",
    "    n_neighbors = 0\n",
    "    last_X = np.array([])\n",
    "    neighbor_indexes = np.array([])\n",
    "    trData = np.array([])\n",
    "    trTargets = np.array([], dtype=np.int8)\n",
    "    n_classes = 0\n",
    "    algorithm = \"\"\n",
    "    n_jobs = None\n",
    "    tree = None\n",
    "    \n",
    "    def __init__(self, n_neighbors, algorithm='brute', n_jobs=None):\n",
    "        self.n_neighbors = n_neighbors\n",
    "        self.algorithm = algorithm\n",
    "        self.n_jobs = n_jobs\n",
    "    \n",
    "    def fit(self, X, y):\n",
    "        if len(X) == len(y):\n",
    "            if type(X) is np.ndarray and type(y) is np.ndarray:\n",
    "                self.last_X = None\n",
    "                self.neighbor_indexes = None\n",
    "                self.trTargets = y.astype(np.uint8)\n",
    "                self.n_classes = np.unique(y).shape[0]\n",
    "                if self.algorithm == 'brute':\n",
    "                    self.trData = X.astype(np.float16)\n",
    "                elif self.algorithm == 'kd_tree':\n",
    "                    self.tree = KDTree(X.astype(np.float16))\n",
    "                else:\n",
    "                    raise KeyError('Algorithm not found')\n",
    "            else:\n",
    "                raise TypeError('Arguments not of numpy array')\n",
    "        else:\n",
    "            raise ValueError('Arguments not of same size')\n",
    "            \n",
    "    def find_neighbor_indexes(self, X):\n",
    "        if not np.array_equal(self.last_X, X):\n",
    "            # print(\"recalculating\")\n",
    "            if self.algorithm == 'brute':\n",
    "                dist = pairwise.pairwise_distances(\n",
    "                    X.astype(np.float16), \n",
    "                    self.trData, \n",
    "                    n_jobs = self.n_jobs, \n",
    "                    metric = 'minkowski', \n",
    "                    p = 2)\n",
    "                self.neighbor_indexes = np.argpartition(dist, self.n_neighbors, axis=1)[:, :self.n_neighbors]\n",
    "            elif self.algorithm == 'kd_tree':\n",
    "                self.neighbor_indexes = self.tree.query(X.astype(np.float16), return_distance=False, k=self.n_neighbors)\n",
    "        self.last_X = X\n",
    "        return self.neighbor_indexes       \n",
    "    \n",
    "    def predict(self, X):\n",
    "        neighbor_indexes = self.find_neighbor_indexes(X)\n",
    "        result = np.array(\n",
    "            [np.bincount(i, minlength=self.n_classes).argmax() for i in self.trTargets[neighbor_indexes]])\n",
    "        return result\n",
    "    \n",
    "    def predict_proba(self, X):\n",
    "        neighbor_indexes = self.find_neighbor_indexes(X)\n",
    "        result = np.array(\n",
    "            [np.bincount(i, minlength=self.n_classes) for i in self.trTargets[neighbor_indexes]]) / self.n_neighbors\n",
    "        return result\n",
    "    \n",
    "    def score(self, X, y):\n",
    "        if len(X) == len(y):\n",
    "            return np.count_nonzero(self.predict(X).astype(np.uint8) == y.astype(np.uint8)) / len(y)\n",
    "        else:\n",
    "            raise ValueError('Arguments not of same size')"
   ]
  },
  {
   "cell_type": "markdown",
   "metadata": {},
   "source": [
    "**IRIS**"
   ]
  },
  {
   "cell_type": "code",
   "execution_count": 3,
   "metadata": {},
   "outputs": [],
   "source": [
    "iris = datasets.load_iris()"
   ]
  },
  {
   "cell_type": "code",
   "execution_count": 4,
   "metadata": {},
   "outputs": [],
   "source": [
    "X_train, X_test, y_train, y_test = train_test_split(iris.data, iris.target, test_size=0.1, stratify=iris.target)"
   ]
  },
  {
   "cell_type": "code",
   "execution_count": 5,
   "metadata": {},
   "outputs": [],
   "source": [
    "clf = KNeighborsClassifier(n_neighbors=2, algorithm='brute')\n",
    "my_clf = MyKNeighborsClassifier(n_neighbors=2, algorithm='brute')"
   ]
  },
  {
   "cell_type": "code",
   "execution_count": 6,
   "metadata": {},
   "outputs": [
    {
     "name": "stdout",
     "output_type": "stream",
     "text": [
      "Wall time: 997 µs\n"
     ]
    },
    {
     "data": {
      "text/plain": [
       "KNeighborsClassifier(algorithm='brute', leaf_size=30, metric='minkowski',\n",
       "           metric_params=None, n_jobs=None, n_neighbors=2, p=2,\n",
       "           weights='uniform')"
      ]
     },
     "execution_count": 6,
     "metadata": {},
     "output_type": "execute_result"
    }
   ],
   "source": [
    "%time clf.fit(X_train, y_train)"
   ]
  },
  {
   "cell_type": "code",
   "execution_count": 7,
   "metadata": {},
   "outputs": [
    {
     "name": "stdout",
     "output_type": "stream",
     "text": [
      "Wall time: 2.99 ms\n"
     ]
    }
   ],
   "source": [
    "%time my_clf.fit(X_train, y_train)"
   ]
  },
  {
   "cell_type": "code",
   "execution_count": 8,
   "metadata": {},
   "outputs": [
    {
     "name": "stdout",
     "output_type": "stream",
     "text": [
      "Wall time: 29.9 ms\n"
     ]
    },
    {
     "data": {
      "text/plain": [
       "array([0, 2, 2, 1, 0, 2, 0, 1, 0, 0, 1, 1, 2, 1, 1])"
      ]
     },
     "execution_count": 8,
     "metadata": {},
     "output_type": "execute_result"
    }
   ],
   "source": [
    "%time clf.predict(X_test)"
   ]
  },
  {
   "cell_type": "code",
   "execution_count": 9,
   "metadata": {},
   "outputs": [
    {
     "name": "stdout",
     "output_type": "stream",
     "text": [
      "Wall time: 2.99 ms\n"
     ]
    },
    {
     "data": {
      "text/plain": [
       "array([0, 2, 2, 1, 0, 2, 0, 1, 0, 0, 1, 1, 2, 1, 1], dtype=int64)"
      ]
     },
     "execution_count": 9,
     "metadata": {},
     "output_type": "execute_result"
    }
   ],
   "source": [
    "%time my_clf.predict(X_test)"
   ]
  },
  {
   "cell_type": "code",
   "execution_count": 10,
   "metadata": {},
   "outputs": [
    {
     "name": "stdout",
     "output_type": "stream",
     "text": [
      "Wall time: 999 µs\n"
     ]
    },
    {
     "data": {
      "text/plain": [
       "array([[1. , 0. , 0. ],\n",
       "       [0. , 0. , 1. ],\n",
       "       [0. , 0. , 1. ],\n",
       "       [0. , 1. , 0. ],\n",
       "       [1. , 0. , 0. ],\n",
       "       [0. , 0. , 1. ],\n",
       "       [1. , 0. , 0. ],\n",
       "       [0. , 1. , 0. ],\n",
       "       [1. , 0. , 0. ],\n",
       "       [1. , 0. , 0. ],\n",
       "       [0. , 1. , 0. ],\n",
       "       [0. , 0.5, 0.5],\n",
       "       [0. , 0. , 1. ],\n",
       "       [0. , 1. , 0. ],\n",
       "       [0. , 1. , 0. ]])"
      ]
     },
     "execution_count": 10,
     "metadata": {},
     "output_type": "execute_result"
    }
   ],
   "source": [
    "%time clf.predict_proba(X_test)"
   ]
  },
  {
   "cell_type": "code",
   "execution_count": 11,
   "metadata": {},
   "outputs": [
    {
     "name": "stdout",
     "output_type": "stream",
     "text": [
      "Wall time: 0 ns\n"
     ]
    },
    {
     "data": {
      "text/plain": [
       "array([[1. , 0. , 0. ],\n",
       "       [0. , 0. , 1. ],\n",
       "       [0. , 0. , 1. ],\n",
       "       [0. , 1. , 0. ],\n",
       "       [1. , 0. , 0. ],\n",
       "       [0. , 0. , 1. ],\n",
       "       [1. , 0. , 0. ],\n",
       "       [0. , 1. , 0. ],\n",
       "       [1. , 0. , 0. ],\n",
       "       [1. , 0. , 0. ],\n",
       "       [0. , 1. , 0. ],\n",
       "       [0. , 0.5, 0.5],\n",
       "       [0. , 0. , 1. ],\n",
       "       [0. , 1. , 0. ],\n",
       "       [0. , 1. , 0. ]])"
      ]
     },
     "execution_count": 11,
     "metadata": {},
     "output_type": "execute_result"
    }
   ],
   "source": [
    "%time my_clf.predict_proba(X_test)"
   ]
  },
  {
   "cell_type": "code",
   "execution_count": 12,
   "metadata": {},
   "outputs": [
    {
     "data": {
      "text/plain": [
       "0.9333333333333333"
      ]
     },
     "execution_count": 12,
     "metadata": {},
     "output_type": "execute_result"
    }
   ],
   "source": [
    "clf.score(X_test, y_test)"
   ]
  },
  {
   "cell_type": "code",
   "execution_count": 13,
   "metadata": {},
   "outputs": [
    {
     "data": {
      "text/plain": [
       "0.9333333333333333"
      ]
     },
     "execution_count": 13,
     "metadata": {},
     "output_type": "execute_result"
    }
   ],
   "source": [
    "my_clf.score(X_test, y_test)"
   ]
  },
  {
   "cell_type": "markdown",
   "metadata": {},
   "source": [
    "Задание 3"
   ]
  },
  {
   "cell_type": "code",
   "execution_count": 14,
   "metadata": {},
   "outputs": [
    {
     "data": {
      "text/plain": [
       "[<matplotlib.lines.Line2D at 0x1f97f465128>]"
      ]
     },
     "execution_count": 14,
     "metadata": {},
     "output_type": "execute_result"
    },
    {
     "data": {
      "image/png": "[encoded data removed]",
      "text/plain": [
       "<Figure size 1080x576 with 1 Axes>"
      ]
     },
     "metadata": {
      "needs_background": "light"
     },
     "output_type": "display_data"
    }
   ],
   "source": [
    "max_neighbors = 25\n",
    "train_accuracy_arr = np.empty(max_neighbors, dtype=np.float16)\n",
    "test_accuracy_arr = np.empty(max_neighbors, dtype=np.float16)\n",
    "\n",
    "for i in np.arange(1, max_neighbors+1):\n",
    "    n_clf = MyKNeighborsClassifier(n_neighbors=i, algorithm='brute')\n",
    "    n_clf.fit(X_train, y_train)\n",
    "    train_accuracy_arr[i-1] = n_clf.score(X_train, y_train)\n",
    "    test_accuracy_arr[i-1] = n_clf.score(X_test, y_test)\n",
    "    \n",
    "best_train = train_accuracy_arr.argmax()\n",
    "best_test = test_accuracy_arr.argmax()\n",
    "\n",
    "# ax = plt.figure(figsize=(15, 8)).add_axis(111)\n",
    "fig = plt.figure(figsize=(15, 8))\n",
    "plt.plot(np.arange(1, max_neighbors+1), train_accuracy_arr, label='train')\n",
    "plt.plot(np.arange(1, max_neighbors+1), test_accuracy_arr, label='test')\n",
    "plt.grid()\n",
    "plt.legend()\n",
    "\n",
    "best_train_coordinates = ()\n",
    "plt.annotate('Best train accuracy, n = %s' % (best_train + 1), (best_train + 1, train_accuracy_arr[best_train]))\n",
    "plt.plot(best_train + 1, train_accuracy_arr[best_train], 'ro')\n",
    "\n",
    "best_test_coordinates = ()\n",
    "plt.annotate('Best test accuracy, n = %s' % (best_test + 1), (best_test + 1, test_accuracy_arr[best_test] - 0.002))\n",
    "plt.plot(best_test + 1, test_accuracy_arr[best_test], 'ro')"
   ]
  },
  {
   "cell_type": "markdown",
   "metadata": {},
   "source": [
    "**MNIST**"
   ]
  },
  {
   "cell_type": "code",
   "execution_count": 15,
   "metadata": {},
   "outputs": [],
   "source": [
    "mnist = fetch_openml('mnist_784')"
   ]
  },
  {
   "cell_type": "code",
   "execution_count": 16,
   "metadata": {},
   "outputs": [],
   "source": [
    "X_train, X_test, y_train, y_test = train_test_split(mnist.data, mnist.target, test_size=0.01, stratify=mnist.target)"
   ]
  },
  {
   "cell_type": "code",
   "execution_count": 17,
   "metadata": {},
   "outputs": [],
   "source": [
    "clf = KNeighborsClassifier(n_neighbors=2, algorithm='brute')\n",
    "my_clf = MyKNeighborsClassifier(n_neighbors=2, algorithm='brute', n_jobs=-1)"
   ]
  },
  {
   "cell_type": "code",
   "execution_count": 18,
   "metadata": {},
   "outputs": [
    {
     "name": "stdout",
     "output_type": "stream",
     "text": [
      "Wall time: 612 ms\n"
     ]
    },
    {
     "data": {
      "text/plain": [
       "KNeighborsClassifier(algorithm='brute', leaf_size=30, metric='minkowski',\n",
       "           metric_params=None, n_jobs=None, n_neighbors=2, p=2,\n",
       "           weights='uniform')"
      ]
     },
     "execution_count": 18,
     "metadata": {},
     "output_type": "execute_result"
    }
   ],
   "source": [
    "%time clf.fit(X_train, y_train)"
   ]
  },
  {
   "cell_type": "code",
   "execution_count": 19,
   "metadata": {},
   "outputs": [
    {
     "name": "stdout",
     "output_type": "stream",
     "text": [
      "Wall time: 830 ms\n"
     ]
    }
   ],
   "source": [
    "%time my_clf.fit(X_train, y_train)"
   ]
  },
  {
   "cell_type": "code",
   "execution_count": 20,
   "metadata": {},
   "outputs": [
    {
     "name": "stdout",
     "output_type": "stream",
     "text": [
      "Wall time: 6.03 s\n"
     ]
    },
    {
     "data": {
      "text/plain": [
       "array(['3', '6', '2', '4', '5', '7', '1', '2', '5', '1', '3', '2', '8',\n",
       "       '7', '1', '2', '8', '8', '4', '3', '9', '1', '7', '7', '8', '0',\n",
       "       '2', '4', '0', '5', '7', '6', '6', '2', '4', '1', '2', '6', '0',\n",
       "       '1', '1', '7', '8', '4', '0', '4', '1', '4', '4', '2', '2', '2',\n",
       "       '6', '9', '0', '1', '3', '6', '9', '6', '4', '4', '7', '2', '0',\n",
       "       '7', '5', '6', '7', '1', '0', '9', '6', '1', '0', '2', '8', '7',\n",
       "       '4', '8', '7', '8', '6', '6', '6', '5', '7', '1', '7', '5', '2',\n",
       "       '9', '6', '9', '8', '2', '2', '9', '7', '5', '0', '0', '6', '9',\n",
       "       '7', '5', '5', '7', '5', '2', '1', '2', '7', '1', '3', '7', '9',\n",
       "       '9', '9', '1', '2', '9', '4', '9', '1', '3', '5', '7', '4', '0',\n",
       "       '8', '1', '4', '3', '3', '0', '1', '1', '0', '6', '7', '2', '1',\n",
       "       '4', '2', '1', '4', '4', '1', '6', '1', '0', '5', '7', '0', '7',\n",
       "       '9', '7', '2', '4', '2', '6', '8', '0', '7', '3', '1', '7', '5',\n",
       "       '9', '4', '2', '8', '8', '6', '3', '4', '3', '1', '7', '9', '9',\n",
       "       '5', '6', '5', '1', '3', '0', '1', '5', '0', '0', '4', '4', '5',\n",
       "       '3', '7', '9', '5', '9', '9', '6', '8', '1', '5', '6', '5', '0',\n",
       "       '3', '7', '9', '8', '5', '5', '5', '1', '5', '2', '8', '4', '6',\n",
       "       '4', '9', '6', '1', '6', '1', '8', '2', '1', '2', '8', '5', '9',\n",
       "       '6', '2', '6', '2', '7', '8', '0', '5', '2', '5', '6', '7', '1',\n",
       "       '6', '9', '8', '2', '0', '5', '7', '5', '4', '9', '7', '9', '1',\n",
       "       '6', '3', '3', '7', '9', '9', '5', '0', '9', '0', '7', '1', '4',\n",
       "       '7', '0', '6', '5', '3', '4', '8', '3', '9', '2', '7', '4', '1',\n",
       "       '4', '3', '2', '0', '6', '8', '8', '7', '7', '0', '3', '7', '7',\n",
       "       '8', '5', '2', '2', '4', '1', '3', '5', '3', '7', '0', '8', '3',\n",
       "       '8', '9', '8', '9', '1', '3', '6', '1', '3', '1', '2', '5', '1',\n",
       "       '4', '7', '6', '9', '5', '7', '2', '8', '9', '5', '3', '2', '3',\n",
       "       '6', '8', '5', '4', '4', '9', '5', '3', '9', '7', '6', '5', '1',\n",
       "       '5', '1', '8', '4', '1', '0', '0', '3', '0', '8', '1', '7', '6',\n",
       "       '1', '0', '5', '3', '8', '3', '3', '9', '0', '6', '3', '6', '4',\n",
       "       '2', '7', '6', '5', '6', '8', '8', '0', '3', '4', '7', '2', '1',\n",
       "       '0', '8', '7', '1', '7', '8', '8', '6', '9', '3', '8', '5', '1',\n",
       "       '8', '6', '3', '4', '4', '7', '9', '8', '3', '0', '3', '0', '7',\n",
       "       '5', '4', '8', '7', '0', '7', '9', '3', '3', '9', '9', '0', '4',\n",
       "       '4', '9', '5', '0', '9', '1', '1', '2', '1', '6', '1', '2', '6',\n",
       "       '9', '4', '4', '5', '3', '8', '7', '2', '5', '4', '6', '3', '4',\n",
       "       '0', '9', '2', '7', '4', '8', '0', '0', '5', '7', '6', '3', '8',\n",
       "       '4', '7', '0', '3', '2', '6', '1', '2', '5', '0', '6', '8', '8',\n",
       "       '3', '1', '8', '6', '8', '9', '8', '1', '9', '4', '3', '3', '7',\n",
       "       '3', '3', '0', '2', '1', '1', '2', '9', '0', '4', '1', '8', '5',\n",
       "       '6', '1', '0', '5', '9', '8', '3', '5', '0', '0', '7', '5', '8',\n",
       "       '7', '2', '0', '0', '2', '4', '2', '4', '3', '9', '8', '3', '4',\n",
       "       '4', '8', '4', '3', '7', '5', '2', '7', '1', '5', '3', '6', '7',\n",
       "       '9', '1', '1', '4', '0', '8', '8', '2', '2', '1', '2', '6', '3',\n",
       "       '9', '0', '0', '4', '1', '1', '3', '1', '0', '2', '5', '4', '9',\n",
       "       '3', '9', '9', '1', '0', '1', '0', '2', '7', '4', '3', '6', '6',\n",
       "       '6', '6', '2', '8', '9', '0', '1', '9', '5', '5', '6', '6', '3',\n",
       "       '2', '0', '0', '7', '9', '3', '0', '3', '5', '4', '6', '2', '4',\n",
       "       '2', '1', '9', '5', '6', '4', '5', '4', '7', '3', '2', '4', '0',\n",
       "       '9', '2', '6', '4', '0', '2', '4', '1', '2', '1', '8', '6', '6',\n",
       "       '7', '8', '1', '9', '5', '8', '9', '1', '3', '1', '2', '9', '6',\n",
       "       '0', '4', '5', '2', '3', '6', '0', '7', '7', '2', '2', '2', '1',\n",
       "       '7', '9', '7', '4', '3', '8', '3', '6', '8', '4', '6', '0', '9',\n",
       "       '5', '0', '2', '6', '3', '7', '3', '7', '4', '0', '7', '1', '2',\n",
       "       '3', '0', '5', '8', '3', '6', '8', '2', '1', '7', '1'],\n",
       "      dtype=object)"
      ]
     },
     "execution_count": 20,
     "metadata": {},
     "output_type": "execute_result"
    }
   ],
   "source": [
    "%time clf.predict(X_test)"
   ]
  },
  {
   "cell_type": "code",
   "execution_count": 21,
   "metadata": {},
   "outputs": [
    {
     "name": "stdout",
     "output_type": "stream",
     "text": [
      "Wall time: 5min 54s\n"
     ]
    },
    {
     "data": {
      "text/plain": [
       "array([3, 6, 2, 4, 5, 7, 1, 2, 5, 1, 3, 2, 8, 7, 1, 2, 8, 8, 4, 3, 9, 1,\n",
       "       7, 7, 8, 0, 2, 4, 0, 5, 7, 6, 6, 2, 4, 1, 2, 6, 0, 1, 1, 7, 8, 4,\n",
       "       0, 4, 1, 4, 4, 2, 2, 2, 6, 9, 0, 1, 3, 6, 9, 6, 4, 4, 7, 2, 0, 7,\n",
       "       5, 6, 7, 1, 0, 9, 6, 1, 0, 2, 8, 7, 4, 8, 7, 8, 6, 6, 6, 5, 7, 1,\n",
       "       7, 5, 2, 9, 6, 9, 8, 2, 2, 9, 7, 5, 0, 0, 6, 9, 7, 5, 5, 7, 5, 2,\n",
       "       1, 2, 7, 1, 3, 7, 9, 9, 9, 1, 2, 9, 4, 9, 1, 3, 5, 7, 4, 0, 8, 1,\n",
       "       4, 3, 3, 0, 1, 1, 0, 6, 7, 2, 1, 4, 2, 1, 4, 4, 1, 6, 1, 0, 5, 7,\n",
       "       0, 7, 9, 7, 2, 4, 2, 6, 8, 0, 7, 3, 1, 7, 5, 9, 4, 2, 8, 8, 6, 3,\n",
       "       4, 3, 1, 7, 9, 9, 5, 6, 5, 1, 3, 0, 1, 5, 0, 0, 4, 4, 5, 3, 7, 9,\n",
       "       5, 9, 9, 6, 8, 1, 5, 6, 5, 0, 3, 7, 9, 8, 5, 5, 5, 1, 5, 2, 8, 4,\n",
       "       6, 4, 9, 6, 1, 6, 1, 8, 2, 1, 2, 8, 5, 9, 6, 2, 6, 2, 7, 8, 0, 5,\n",
       "       2, 5, 6, 7, 1, 6, 9, 8, 2, 0, 5, 7, 5, 4, 9, 7, 9, 1, 6, 3, 3, 7,\n",
       "       9, 9, 5, 0, 9, 0, 7, 1, 4, 7, 0, 6, 5, 3, 4, 8, 3, 9, 2, 7, 4, 1,\n",
       "       4, 3, 2, 0, 6, 8, 8, 7, 7, 0, 3, 7, 7, 8, 5, 2, 2, 4, 1, 3, 5, 3,\n",
       "       7, 0, 8, 3, 8, 9, 8, 9, 1, 3, 6, 1, 3, 1, 2, 5, 1, 4, 7, 6, 9, 5,\n",
       "       7, 2, 8, 9, 5, 3, 2, 3, 6, 8, 5, 4, 4, 9, 5, 3, 9, 7, 6, 5, 1, 5,\n",
       "       1, 8, 4, 1, 0, 0, 3, 0, 8, 1, 7, 6, 1, 0, 5, 3, 8, 3, 3, 9, 0, 6,\n",
       "       3, 6, 4, 2, 7, 6, 5, 6, 8, 8, 0, 3, 4, 7, 2, 1, 0, 8, 7, 1, 7, 8,\n",
       "       8, 6, 9, 3, 8, 5, 1, 8, 6, 3, 4, 4, 7, 9, 8, 3, 0, 3, 0, 7, 5, 4,\n",
       "       8, 7, 0, 7, 9, 3, 3, 9, 9, 0, 4, 4, 9, 5, 0, 9, 1, 1, 2, 1, 6, 1,\n",
       "       2, 6, 9, 4, 4, 5, 3, 8, 7, 2, 5, 4, 6, 3, 4, 0, 9, 2, 7, 4, 8, 0,\n",
       "       0, 5, 7, 6, 3, 8, 4, 7, 0, 3, 2, 6, 1, 2, 5, 0, 6, 8, 8, 3, 1, 8,\n",
       "       6, 8, 9, 8, 1, 9, 4, 3, 3, 7, 3, 3, 0, 2, 1, 1, 2, 9, 0, 4, 1, 8,\n",
       "       5, 6, 1, 0, 5, 9, 8, 3, 5, 0, 0, 7, 5, 8, 7, 2, 0, 0, 2, 4, 2, 4,\n",
       "       3, 9, 8, 3, 4, 4, 8, 4, 3, 7, 5, 2, 7, 1, 5, 3, 6, 7, 9, 1, 1, 4,\n",
       "       0, 8, 8, 2, 2, 1, 2, 6, 3, 9, 0, 0, 4, 1, 1, 3, 1, 0, 2, 5, 4, 9,\n",
       "       3, 9, 9, 1, 0, 1, 0, 2, 7, 4, 3, 6, 6, 6, 6, 2, 8, 9, 0, 1, 9, 5,\n",
       "       5, 6, 6, 3, 2, 0, 0, 7, 9, 3, 0, 3, 5, 4, 6, 2, 4, 2, 1, 9, 5, 6,\n",
       "       4, 5, 4, 7, 3, 2, 4, 0, 9, 2, 6, 4, 0, 2, 4, 1, 2, 1, 8, 6, 6, 7,\n",
       "       8, 1, 9, 5, 8, 9, 1, 3, 1, 2, 9, 6, 0, 4, 5, 2, 3, 6, 0, 7, 7, 2,\n",
       "       2, 2, 1, 7, 9, 7, 4, 3, 8, 3, 6, 8, 4, 6, 0, 9, 5, 0, 2, 6, 3, 7,\n",
       "       3, 7, 4, 0, 7, 1, 2, 3, 0, 5, 8, 3, 6, 8, 2, 1, 7, 1], dtype=int64)"
      ]
     },
     "execution_count": 21,
     "metadata": {},
     "output_type": "execute_result"
    }
   ],
   "source": [
    "%time my_clf.predict(X_test)"
   ]
  },
  {
   "cell_type": "code",
   "execution_count": 22,
   "metadata": {},
   "outputs": [
    {
     "name": "stdout",
     "output_type": "stream",
     "text": [
      "Wall time: 3.14 s\n"
     ]
    },
    {
     "data": {
      "text/plain": [
       "array([[0. , 0. , 0. , ..., 0. , 0. , 0. ],\n",
       "       [0. , 0. , 0. , ..., 0. , 0. , 0. ],\n",
       "       [0. , 0. , 1. , ..., 0. , 0. , 0. ],\n",
       "       ...,\n",
       "       [0. , 1. , 0. , ..., 0. , 0. , 0. ],\n",
       "       [0. , 0. , 0. , ..., 0.5, 0. , 0.5],\n",
       "       [0. , 1. , 0. , ..., 0. , 0. , 0. ]])"
      ]
     },
     "execution_count": 22,
     "metadata": {},
     "output_type": "execute_result"
    }
   ],
   "source": [
    "%time clf.predict_proba(X_test)"
   ]
  },
  {
   "cell_type": "code",
   "execution_count": 23,
   "metadata": {},
   "outputs": [
    {
     "name": "stdout",
     "output_type": "stream",
     "text": [
      "Wall time: 4.99 ms\n"
     ]
    },
    {
     "data": {
      "text/plain": [
       "array([[0. , 0. , 0. , ..., 0. , 0. , 0. ],\n",
       "       [0. , 0. , 0. , ..., 0. , 0. , 0. ],\n",
       "       [0. , 0. , 1. , ..., 0. , 0. , 0. ],\n",
       "       ...,\n",
       "       [0. , 1. , 0. , ..., 0. , 0. , 0. ],\n",
       "       [0. , 0. , 0. , ..., 0.5, 0. , 0.5],\n",
       "       [0. , 1. , 0. , ..., 0. , 0. , 0. ]])"
      ]
     },
     "execution_count": 23,
     "metadata": {},
     "output_type": "execute_result"
    }
   ],
   "source": [
    "%time my_clf.predict_proba(X_test)"
   ]
  },
  {
   "cell_type": "code",
   "execution_count": 24,
   "metadata": {},
   "outputs": [
    {
     "data": {
      "text/plain": [
       "0.9742857142857143"
      ]
     },
     "execution_count": 24,
     "metadata": {},
     "output_type": "execute_result"
    }
   ],
   "source": [
    "clf.score(X_test, y_test)"
   ]
  },
  {
   "cell_type": "code",
   "execution_count": 25,
   "metadata": {},
   "outputs": [
    {
     "data": {
      "text/plain": [
       "0.9742857142857143"
      ]
     },
     "execution_count": 25,
     "metadata": {},
     "output_type": "execute_result"
    }
   ],
   "source": [
    "my_clf.score(X_test, y_test)"
   ]
  },
  {
   "cell_type": "markdown",
   "metadata": {},
   "source": [
    "Задание 4"
   ]
  },
  {
   "cell_type": "code",
   "execution_count": 26,
   "metadata": {},
   "outputs": [],
   "source": [
    "clf = KNeighborsClassifier(n_neighbors=2, algorithm='kd_tree')\n",
    "my_clf = MyKNeighborsClassifier(n_neighbors=2, algorithm='kd_tree')"
   ]
  },
  {
   "cell_type": "code",
   "execution_count": 27,
   "metadata": {},
   "outputs": [],
   "source": [
    "X_train, X_test, y_train, y_test = train_test_split(mnist.data, mnist.target, test_size=0.01, stratify=mnist.target)"
   ]
  },
  {
   "cell_type": "code",
   "execution_count": 28,
   "metadata": {},
   "outputs": [
    {
     "name": "stdout",
     "output_type": "stream",
     "text": [
      "Wall time: 39 s\n"
     ]
    },
    {
     "data": {
      "text/plain": [
       "KNeighborsClassifier(algorithm='kd_tree', leaf_size=30, metric='minkowski',\n",
       "           metric_params=None, n_jobs=None, n_neighbors=2, p=2,\n",
       "           weights='uniform')"
      ]
     },
     "execution_count": 28,
     "metadata": {},
     "output_type": "execute_result"
    }
   ],
   "source": [
    "%time clf.fit(X_train, y_train)"
   ]
  },
  {
   "cell_type": "code",
   "execution_count": 29,
   "metadata": {},
   "outputs": [
    {
     "name": "stdout",
     "output_type": "stream",
     "text": [
      "Wall time: 40.2 s\n"
     ]
    }
   ],
   "source": [
    "%time my_clf.fit(X_train, y_train)"
   ]
  },
  {
   "cell_type": "code",
   "execution_count": 30,
   "metadata": {},
   "outputs": [
    {
     "name": "stdout",
     "output_type": "stream",
     "text": [
      "Wall time: 1min 37s\n"
     ]
    },
    {
     "data": {
      "text/plain": [
       "array(['5', '9', '5', '7', '9', '8', '9', '4', '0', '7', '7', '0', '1',\n",
       "       '2', '5', '0', '8', '9', '2', '9', '9', '5', '7', '9', '1', '3',\n",
       "       '1', '2', '0', '4', '7', '6', '9', '1', '8', '8', '7', '1', '8',\n",
       "       '7', '3', '9', '7', '5', '7', '6', '9', '4', '6', '2', '3', '2',\n",
       "       '9', '9', '3', '1', '9', '4', '9', '2', '1', '5', '3', '4', '7',\n",
       "       '4', '9', '2', '1', '2', '7', '5', '0', '3', '0', '7', '9', '3',\n",
       "       '6', '9', '7', '3', '0', '7', '2', '7', '2', '9', '7', '2', '5',\n",
       "       '2', '3', '4', '4', '0', '1', '9', '7', '8', '0', '1', '3', '3',\n",
       "       '2', '2', '8', '2', '6', '3', '7', '3', '4', '5', '2', '0', '6',\n",
       "       '1', '5', '2', '4', '9', '2', '9', '3', '5', '5', '6', '5', '6',\n",
       "       '5', '3', '6', '3', '3', '6', '2', '1', '4', '8', '2', '6', '9',\n",
       "       '0', '4', '0', '0', '9', '0', '0', '2', '5', '3', '9', '0', '5',\n",
       "       '1', '0', '2', '1', '0', '9', '7', '1', '7', '0', '0', '9', '8',\n",
       "       '5', '4', '1', '0', '1', '6', '4', '4', '4', '1', '6', '9', '1',\n",
       "       '2', '3', '7', '1', '5', '3', '2', '5', '4', '9', '3', '4', '3',\n",
       "       '6', '3', '5', '7', '5', '0', '3', '0', '1', '3', '8', '3', '9',\n",
       "       '5', '4', '1', '9', '6', '4', '0', '6', '9', '6', '6', '4', '1',\n",
       "       '0', '5', '3', '0', '7', '7', '4', '0', '8', '3', '2', '8', '1',\n",
       "       '6', '3', '1', '8', '3', '4', '6', '8', '5', '3', '9', '7', '8',\n",
       "       '4', '7', '3', '0', '6', '2', '1', '0', '7', '7', '1', '6', '2',\n",
       "       '2', '0', '5', '9', '8', '4', '1', '7', '0', '6', '4', '4', '3',\n",
       "       '4', '9', '7', '7', '2', '0', '4', '2', '1', '5', '9', '7', '1',\n",
       "       '1', '6', '9', '9', '4', '7', '3', '2', '1', '3', '4', '4', '2',\n",
       "       '8', '9', '0', '0', '8', '8', '9', '8', '1', '5', '7', '3', '3',\n",
       "       '4', '2', '0', '3', '4', '7', '5', '8', '9', '7', '6', '7', '0',\n",
       "       '2', '6', '5', '9', '2', '1', '6', '4', '5', '2', '0', '5', '6',\n",
       "       '0', '3', '3', '6', '8', '0', '0', '7', '6', '6', '5', '2', '6',\n",
       "       '3', '1', '0', '6', '7', '1', '3', '4', '6', '8', '3', '6', '5',\n",
       "       '2', '1', '1', '0', '0', '8', '3', '9', '4', '1', '0', '7', '1',\n",
       "       '7', '9', '1', '4', '6', '6', '1', '3', '6', '5', '8', '0', '3',\n",
       "       '1', '7', '5', '6', '4', '9', '6', '8', '3', '2', '3', '7', '5',\n",
       "       '3', '7', '3', '1', '1', '3', '9', '6', '6', '6', '5', '7', '8',\n",
       "       '1', '7', '3', '1', '4', '1', '4', '7', '2', '5', '1', '2', '7',\n",
       "       '2', '2', '1', '1', '1', '8', '5', '9', '1', '1', '7', '6', '5',\n",
       "       '8', '8', '6', '2', '5', '0', '5', '3', '4', '1', '7', '7', '3',\n",
       "       '6', '8', '8', '6', '6', '7', '1', '5', '9', '5', '7', '8', '1',\n",
       "       '3', '8', '4', '3', '3', '9', '7', '7', '9', '0', '2', '0', '6',\n",
       "       '1', '4', '4', '4', '0', '0', '2', '6', '2', '0', '5', '4', '8',\n",
       "       '1', '8', '3', '1', '2', '1', '9', '6', '6', '1', '4', '7', '7',\n",
       "       '3', '9', '0', '6', '2', '3', '6', '1', '3', '0', '0', '0', '8',\n",
       "       '0', '8', '7', '5', '9', '1', '6', '4', '9', '3', '6', '3', '0',\n",
       "       '9', '0', '4', '5', '0', '3', '5', '8', '1', '1', '7', '1', '5',\n",
       "       '6', '0', '4', '3', '8', '7', '4', '9', '7', '2', '0', '3', '9',\n",
       "       '9', '6', '2', '1', '8', '4', '2', '2', '6', '2', '4', '3', '7',\n",
       "       '1', '2', '5', '7', '0', '1', '0', '1', '2', '8', '5', '6', '5',\n",
       "       '4', '5', '4', '4', '2', '9', '4', '8', '2', '7', '5', '1', '4',\n",
       "       '8', '4', '2', '2', '4', '3', '1', '0', '5', '1', '5', '6', '5',\n",
       "       '8', '0', '3', '8', '2', '4', '4', '7', '0', '2', '6', '3', '7',\n",
       "       '7', '8', '3', '1', '9', '3', '9', '0', '8', '6', '2', '5', '0',\n",
       "       '7', '8', '9', '6', '6', '2', '3', '9', '7', '5', '7', '8', '3',\n",
       "       '5', '0', '1', '3', '2', '0', '2', '0', '1', '4', '8', '6', '9',\n",
       "       '9', '1', '7', '4', '3', '4', '4', '2', '6', '5', '8', '6', '7',\n",
       "       '4', '9', '3', '6', '8', '1', '7', '5', '8', '5', '3', '6', '3',\n",
       "       '8', '3', '6', '0', '1', '8', '9', '8', '2', '3', '7'],\n",
       "      dtype=object)"
      ]
     },
     "execution_count": 30,
     "metadata": {},
     "output_type": "execute_result"
    }
   ],
   "source": [
    "%time clf.predict(X_test)"
   ]
  },
  {
   "cell_type": "code",
   "execution_count": 31,
   "metadata": {},
   "outputs": [
    {
     "name": "stdout",
     "output_type": "stream",
     "text": [
      "Wall time: 1min 21s\n"
     ]
    },
    {
     "data": {
      "text/plain": [
       "array([5, 9, 5, 7, 9, 8, 9, 4, 0, 7, 7, 0, 1, 2, 5, 0, 8, 9, 2, 9, 9, 5,\n",
       "       7, 9, 1, 3, 1, 2, 0, 4, 7, 6, 9, 1, 8, 8, 7, 1, 8, 7, 3, 9, 7, 5,\n",
       "       7, 6, 9, 4, 6, 2, 3, 2, 9, 9, 3, 1, 9, 4, 9, 2, 1, 5, 3, 4, 7, 4,\n",
       "       9, 2, 1, 2, 7, 5, 0, 3, 0, 7, 9, 3, 6, 9, 7, 3, 0, 7, 2, 7, 2, 9,\n",
       "       7, 2, 5, 2, 3, 4, 4, 0, 1, 9, 7, 8, 0, 1, 3, 3, 2, 2, 8, 2, 6, 3,\n",
       "       7, 3, 4, 5, 2, 0, 6, 1, 5, 2, 4, 9, 2, 9, 3, 5, 5, 6, 5, 6, 5, 3,\n",
       "       6, 3, 3, 6, 2, 1, 4, 8, 2, 6, 9, 0, 4, 0, 0, 9, 0, 0, 2, 5, 3, 9,\n",
       "       0, 5, 1, 0, 2, 1, 0, 9, 7, 1, 7, 0, 0, 9, 8, 5, 4, 1, 0, 1, 6, 4,\n",
       "       4, 4, 1, 6, 9, 1, 2, 3, 7, 1, 5, 3, 2, 5, 4, 9, 3, 4, 3, 6, 3, 5,\n",
       "       7, 5, 0, 3, 0, 1, 3, 8, 3, 9, 5, 4, 1, 9, 6, 4, 0, 6, 9, 6, 6, 4,\n",
       "       1, 0, 5, 3, 0, 7, 7, 4, 0, 8, 3, 2, 8, 1, 6, 3, 1, 8, 3, 4, 6, 8,\n",
       "       5, 3, 9, 7, 8, 4, 7, 3, 0, 6, 2, 1, 0, 7, 7, 1, 6, 2, 2, 0, 5, 9,\n",
       "       8, 4, 1, 7, 0, 6, 4, 4, 3, 4, 9, 7, 7, 2, 0, 4, 2, 1, 5, 9, 7, 1,\n",
       "       1, 6, 9, 9, 4, 7, 3, 2, 1, 3, 4, 4, 2, 8, 9, 0, 0, 8, 8, 9, 8, 1,\n",
       "       5, 7, 3, 3, 4, 2, 0, 3, 4, 7, 5, 8, 9, 7, 6, 7, 0, 2, 6, 5, 9, 2,\n",
       "       1, 6, 4, 5, 2, 0, 5, 6, 0, 3, 3, 6, 8, 0, 0, 7, 6, 6, 5, 2, 6, 3,\n",
       "       1, 0, 6, 7, 1, 3, 4, 6, 8, 3, 6, 5, 2, 1, 1, 0, 0, 8, 3, 9, 4, 1,\n",
       "       0, 7, 1, 7, 9, 1, 4, 6, 6, 1, 3, 6, 5, 8, 0, 3, 1, 7, 5, 6, 4, 9,\n",
       "       6, 8, 3, 2, 3, 7, 5, 3, 7, 3, 1, 1, 3, 9, 6, 6, 6, 5, 7, 8, 1, 7,\n",
       "       3, 1, 4, 1, 4, 7, 2, 5, 1, 2, 7, 2, 2, 1, 1, 1, 8, 5, 9, 1, 1, 7,\n",
       "       6, 5, 8, 8, 6, 2, 5, 0, 5, 3, 4, 1, 7, 7, 3, 6, 8, 8, 6, 6, 7, 1,\n",
       "       5, 9, 5, 7, 8, 1, 3, 8, 4, 3, 3, 9, 7, 7, 9, 0, 2, 0, 6, 1, 4, 4,\n",
       "       4, 0, 0, 2, 6, 2, 0, 5, 4, 8, 1, 8, 3, 1, 2, 1, 9, 6, 6, 1, 4, 7,\n",
       "       7, 3, 9, 0, 6, 2, 3, 6, 1, 3, 0, 0, 0, 8, 0, 8, 7, 5, 9, 1, 6, 4,\n",
       "       9, 3, 6, 3, 0, 9, 0, 4, 5, 0, 3, 5, 8, 1, 1, 7, 1, 5, 6, 0, 4, 3,\n",
       "       8, 7, 4, 9, 7, 2, 0, 3, 9, 9, 6, 2, 1, 8, 4, 2, 2, 6, 2, 4, 3, 7,\n",
       "       1, 2, 5, 7, 0, 1, 0, 1, 2, 8, 5, 6, 5, 4, 5, 4, 4, 2, 9, 4, 8, 2,\n",
       "       7, 5, 1, 4, 8, 4, 2, 2, 4, 3, 1, 0, 5, 1, 5, 6, 5, 8, 0, 3, 8, 2,\n",
       "       4, 4, 7, 0, 2, 6, 3, 7, 7, 8, 3, 1, 9, 3, 9, 0, 8, 6, 2, 5, 0, 7,\n",
       "       8, 9, 6, 6, 2, 3, 9, 7, 5, 7, 8, 3, 5, 0, 1, 3, 2, 0, 2, 0, 1, 4,\n",
       "       8, 6, 9, 9, 1, 7, 4, 3, 4, 4, 2, 6, 5, 8, 6, 7, 4, 9, 3, 6, 8, 1,\n",
       "       7, 5, 8, 5, 3, 6, 3, 8, 3, 6, 0, 1, 8, 9, 8, 2, 3, 7], dtype=int64)"
      ]
     },
     "execution_count": 31,
     "metadata": {},
     "output_type": "execute_result"
    }
   ],
   "source": [
    "%time my_clf.predict(X_test)"
   ]
  },
  {
   "cell_type": "code",
   "execution_count": 32,
   "metadata": {},
   "outputs": [
    {
     "name": "stdout",
     "output_type": "stream",
     "text": [
      "Wall time: 1min 37s\n"
     ]
    },
    {
     "data": {
      "text/plain": [
       "array([[0., 0., 0., ..., 0., 0., 0.],\n",
       "       [0., 0., 0., ..., 0., 0., 1.],\n",
       "       [0., 0., 0., ..., 0., 0., 0.],\n",
       "       ...,\n",
       "       [0., 0., 1., ..., 0., 0., 0.],\n",
       "       [0., 0., 0., ..., 0., 0., 0.],\n",
       "       [0., 0., 0., ..., 1., 0., 0.]])"
      ]
     },
     "execution_count": 32,
     "metadata": {},
     "output_type": "execute_result"
    }
   ],
   "source": [
    "%time clf.predict_proba(X_test)"
   ]
  },
  {
   "cell_type": "code",
   "execution_count": 33,
   "metadata": {},
   "outputs": [
    {
     "name": "stdout",
     "output_type": "stream",
     "text": [
      "Wall time: 6.98 ms\n"
     ]
    },
    {
     "data": {
      "text/plain": [
       "array([[0., 0., 0., ..., 0., 0., 0.],\n",
       "       [0., 0., 0., ..., 0., 0., 1.],\n",
       "       [0., 0., 0., ..., 0., 0., 0.],\n",
       "       ...,\n",
       "       [0., 0., 1., ..., 0., 0., 0.],\n",
       "       [0., 0., 0., ..., 0., 0., 0.],\n",
       "       [0., 0., 0., ..., 1., 0., 0.]])"
      ]
     },
     "execution_count": 33,
     "metadata": {},
     "output_type": "execute_result"
    }
   ],
   "source": [
    "%time my_clf.predict_proba(X_test)"
   ]
  },
  {
   "cell_type": "code",
   "execution_count": 34,
   "metadata": {},
   "outputs": [
    {
     "data": {
      "text/plain": [
       "0.9671428571428572"
      ]
     },
     "execution_count": 34,
     "metadata": {},
     "output_type": "execute_result"
    }
   ],
   "source": [
    "clf.score(X_test, y_test)"
   ]
  },
  {
   "cell_type": "code",
   "execution_count": 35,
   "metadata": {},
   "outputs": [
    {
     "data": {
      "text/plain": [
       "0.9671428571428572"
      ]
     },
     "execution_count": 35,
     "metadata": {},
     "output_type": "execute_result"
    }
   ],
   "source": [
    "my_clf.score(X_test, y_test)"
   ]
  },
  {
   "cell_type": "markdown",
   "metadata": {},
   "source": [
    "Задание 5"
   ]
  },
  {
   "cell_type": "code",
   "execution_count": 36,
   "metadata": {},
   "outputs": [],
   "source": [
    "# seaborn - библиотека для визуализации данных\n",
    "# matplotlib - библиотека для визуализации данных двумерной графикой\n",
    "# train_test_split - функция, разбивающая датасет на тренировочную и тестовую выборки\n",
    "# Pipelin%load_ext e (from sklearn.pipeline import Pipeline) - пайплайн для серии преобразований данных\n",
    "# StandardScaler (from sklearn.preprocessing import StandardScaler) - класс для стандартизации данных\n",
    "# ClassifierMixin - базовый класс классификаторов\n",
    "# NeighborsBase - базовый класс для KNN-классификатора\n",
    "# KNeighborsMixin - базовый класс с методами поиска [ближайших] соседей\n",
    "# SupervisedIntegerMixin - базовый класс для supervised learning; содержит метод fit"
   ]
  }
 ],
 "metadata": {
  "kernelspec": {
   "display_name": "Python 3",
   "language": "python",
   "name": "python3"
  },
  "language_info": {
   "codemirror_mode": {
    "name": "ipython",
    "version": 3
   },
   "file_extension": ".py",
   "mimetype": "text/x-python",
   "name": "python",
   "nbconvert_exporter": "python",
   "pygments_lexer": "ipython3",
   "version": "3.7.1"
  }
 },
 "nbformat": 4,
 "nbformat_minor": 2
}
